{
 "cells": [
  {
   "cell_type": "markdown",
   "id": "2181afb8-4b65-47d4-b238-22eea5d91703",
   "metadata": {},
   "source": [
    "### Import the Libraries"
   ]
  },
  {
   "cell_type": "code",
   "execution_count": 1,
   "id": "f03b5bf7-ad18-4c55-ad59-9766fbc3af4e",
   "metadata": {},
   "outputs": [],
   "source": [
    "\n",
    "import pandas as pd \n",
    "import numpy as np \n",
    "import matplotlib.pyplot as plt \n",
    "import tensorflow as tf \n",
    "from tensorflow.keras import layers \n",
    "from tensorflow.keras.models import Sequential"
   ]
  },
  {
   "cell_type": "markdown",
   "id": "7aebb1db-29ed-4f1e-818c-12152841740e",
   "metadata": {},
   "source": [
    "### Reading the dataset"
   ]
  },
  {
   "cell_type": "code",
   "execution_count": 2,
   "id": "42c5509d-0613-49dc-ba32-2cdeb8966272",
   "metadata": {},
   "outputs": [],
   "source": [
    "df = pd.read_csv(\"drug_review_test.csv\")"
   ]
  },
  {
   "cell_type": "markdown",
   "id": "487576e4-5686-42d2-93bb-f77d2e75fd82",
   "metadata": {},
   "source": [
    "### Exploratory Data Analysis"
   ]
  },
  {
   "cell_type": "code",
   "execution_count": 3,
   "id": "a7cdeab3-10f2-41f6-9640-1df941cd202d",
   "metadata": {},
   "outputs": [
    {
     "data": {
      "text/html": [
       "<div>\n",
       "<style scoped>\n",
       "    .dataframe tbody tr th:only-of-type {\n",
       "        vertical-align: middle;\n",
       "    }\n",
       "\n",
       "    .dataframe tbody tr th {\n",
       "        vertical-align: top;\n",
       "    }\n",
       "\n",
       "    .dataframe thead th {\n",
       "        text-align: right;\n",
       "    }\n",
       "</style>\n",
       "<table border=\"1\" class=\"dataframe\">\n",
       "  <thead>\n",
       "    <tr style=\"text-align: right;\">\n",
       "      <th></th>\n",
       "      <th>Unnamed: 0</th>\n",
       "      <th>patient_id</th>\n",
       "      <th>drugName</th>\n",
       "      <th>condition</th>\n",
       "      <th>review</th>\n",
       "      <th>rating</th>\n",
       "      <th>date</th>\n",
       "      <th>usefulCount</th>\n",
       "      <th>review_length</th>\n",
       "    </tr>\n",
       "  </thead>\n",
       "  <tbody>\n",
       "    <tr>\n",
       "      <th>0</th>\n",
       "      <td>0</td>\n",
       "      <td>163740</td>\n",
       "      <td>Mirtazapine</td>\n",
       "      <td>depression</td>\n",
       "      <td>\"i've tried a few antidepressants over the yea...</td>\n",
       "      <td>10.0</td>\n",
       "      <td>February 28, 2012</td>\n",
       "      <td>22</td>\n",
       "      <td>68</td>\n",
       "    </tr>\n",
       "    <tr>\n",
       "      <th>1</th>\n",
       "      <td>1</td>\n",
       "      <td>206473</td>\n",
       "      <td>Mesalamine</td>\n",
       "      <td>crohn's disease, maintenance</td>\n",
       "      <td>\"my son has crohn's disease and has done very ...</td>\n",
       "      <td>8.0</td>\n",
       "      <td>May 17, 2009</td>\n",
       "      <td>17</td>\n",
       "      <td>48</td>\n",
       "    </tr>\n",
       "    <tr>\n",
       "      <th>2</th>\n",
       "      <td>2</td>\n",
       "      <td>39293</td>\n",
       "      <td>Contrave</td>\n",
       "      <td>weight loss</td>\n",
       "      <td>\"contrave combines drugs that were used for al...</td>\n",
       "      <td>9.0</td>\n",
       "      <td>March 5, 2017</td>\n",
       "      <td>35</td>\n",
       "      <td>143</td>\n",
       "    </tr>\n",
       "    <tr>\n",
       "      <th>3</th>\n",
       "      <td>3</td>\n",
       "      <td>97768</td>\n",
       "      <td>Cyclafem 1 / 35</td>\n",
       "      <td>birth control</td>\n",
       "      <td>\"i have been on this birth control for one cyc...</td>\n",
       "      <td>9.0</td>\n",
       "      <td>October 22, 2015</td>\n",
       "      <td>4</td>\n",
       "      <td>149</td>\n",
       "    </tr>\n",
       "    <tr>\n",
       "      <th>4</th>\n",
       "      <td>4</td>\n",
       "      <td>208087</td>\n",
       "      <td>Zyclara</td>\n",
       "      <td>keratosis</td>\n",
       "      <td>\"4 days in on first 2 weeks.  using on arms an...</td>\n",
       "      <td>4.0</td>\n",
       "      <td>July 3, 2014</td>\n",
       "      <td>13</td>\n",
       "      <td>60</td>\n",
       "    </tr>\n",
       "  </tbody>\n",
       "</table>\n",
       "</div>"
      ],
      "text/plain": [
       "   Unnamed: 0  patient_id         drugName                     condition  \\\n",
       "0           0      163740      Mirtazapine                    depression   \n",
       "1           1      206473       Mesalamine  crohn's disease, maintenance   \n",
       "2           2       39293         Contrave                   weight loss   \n",
       "3           3       97768  Cyclafem 1 / 35                 birth control   \n",
       "4           4      208087          Zyclara                     keratosis   \n",
       "\n",
       "                                              review  rating  \\\n",
       "0  \"i've tried a few antidepressants over the yea...    10.0   \n",
       "1  \"my son has crohn's disease and has done very ...     8.0   \n",
       "2  \"contrave combines drugs that were used for al...     9.0   \n",
       "3  \"i have been on this birth control for one cyc...     9.0   \n",
       "4  \"4 days in on first 2 weeks.  using on arms an...     4.0   \n",
       "\n",
       "                date  usefulCount  review_length  \n",
       "0  February 28, 2012           22             68  \n",
       "1       May 17, 2009           17             48  \n",
       "2      March 5, 2017           35            143  \n",
       "3   October 22, 2015            4            149  \n",
       "4       July 3, 2014           13             60  "
      ]
     },
     "execution_count": 3,
     "metadata": {},
     "output_type": "execute_result"
    }
   ],
   "source": [
    "df.head()"
   ]
  },
  {
   "cell_type": "code",
   "execution_count": 4,
   "id": "0bf274cd-3f45-4bea-96fa-6e4a046537f4",
   "metadata": {},
   "outputs": [
    {
     "data": {
      "text/plain": [
       "Unnamed: 0       0\n",
       "patient_id       0\n",
       "drugName         0\n",
       "condition        0\n",
       "review           0\n",
       "rating           0\n",
       "date             0\n",
       "usefulCount      0\n",
       "review_length    0\n",
       "dtype: int64"
      ]
     },
     "execution_count": 4,
     "metadata": {},
     "output_type": "execute_result"
    }
   ],
   "source": [
    "df.isnull().sum()"
   ]
  },
  {
   "cell_type": "code",
   "execution_count": 5,
   "id": "9149475c-039a-4066-89c6-e915ba9f2aac",
   "metadata": {},
   "outputs": [
    {
     "data": {
      "text/html": [
       "<div>\n",
       "<style scoped>\n",
       "    .dataframe tbody tr th:only-of-type {\n",
       "        vertical-align: middle;\n",
       "    }\n",
       "\n",
       "    .dataframe tbody tr th {\n",
       "        vertical-align: top;\n",
       "    }\n",
       "\n",
       "    .dataframe thead th {\n",
       "        text-align: right;\n",
       "    }\n",
       "</style>\n",
       "<table border=\"1\" class=\"dataframe\">\n",
       "  <thead>\n",
       "    <tr style=\"text-align: right;\">\n",
       "      <th></th>\n",
       "      <th>Unnamed: 0</th>\n",
       "      <th>patient_id</th>\n",
       "      <th>rating</th>\n",
       "      <th>usefulCount</th>\n",
       "      <th>review_length</th>\n",
       "    </tr>\n",
       "  </thead>\n",
       "  <tbody>\n",
       "    <tr>\n",
       "      <th>count</th>\n",
       "      <td>46108.000000</td>\n",
       "      <td>46108.000000</td>\n",
       "      <td>46108.000000</td>\n",
       "      <td>46108.000000</td>\n",
       "      <td>46108.000000</td>\n",
       "    </tr>\n",
       "    <tr>\n",
       "      <th>mean</th>\n",
       "      <td>4741.710289</td>\n",
       "      <td>116604.217988</td>\n",
       "      <td>6.980979</td>\n",
       "      <td>28.505270</td>\n",
       "      <td>95.415156</td>\n",
       "    </tr>\n",
       "    <tr>\n",
       "      <th>std</th>\n",
       "      <td>2841.941628</td>\n",
       "      <td>66906.119983</td>\n",
       "      <td>3.256990</td>\n",
       "      <td>37.222459</td>\n",
       "      <td>37.716939</td>\n",
       "    </tr>\n",
       "    <tr>\n",
       "      <th>min</th>\n",
       "      <td>0.000000</td>\n",
       "      <td>0.000000</td>\n",
       "      <td>1.000000</td>\n",
       "      <td>0.000000</td>\n",
       "      <td>31.000000</td>\n",
       "    </tr>\n",
       "    <tr>\n",
       "      <th>25%</th>\n",
       "      <td>2305.000000</td>\n",
       "      <td>59070.750000</td>\n",
       "      <td>5.000000</td>\n",
       "      <td>6.000000</td>\n",
       "      <td>63.000000</td>\n",
       "    </tr>\n",
       "    <tr>\n",
       "      <th>50%</th>\n",
       "      <td>4610.000000</td>\n",
       "      <td>116932.500000</td>\n",
       "      <td>8.000000</td>\n",
       "      <td>16.000000</td>\n",
       "      <td>95.000000</td>\n",
       "    </tr>\n",
       "    <tr>\n",
       "      <th>75%</th>\n",
       "      <td>7118.000000</td>\n",
       "      <td>174279.000000</td>\n",
       "      <td>10.000000</td>\n",
       "      <td>37.000000</td>\n",
       "      <td>130.000000</td>\n",
       "    </tr>\n",
       "    <tr>\n",
       "      <th>max</th>\n",
       "      <td>9999.000000</td>\n",
       "      <td>232284.000000</td>\n",
       "      <td>10.000000</td>\n",
       "      <td>949.000000</td>\n",
       "      <td>1162.000000</td>\n",
       "    </tr>\n",
       "  </tbody>\n",
       "</table>\n",
       "</div>"
      ],
      "text/plain": [
       "         Unnamed: 0     patient_id        rating   usefulCount  review_length\n",
       "count  46108.000000   46108.000000  46108.000000  46108.000000   46108.000000\n",
       "mean    4741.710289  116604.217988      6.980979     28.505270      95.415156\n",
       "std     2841.941628   66906.119983      3.256990     37.222459      37.716939\n",
       "min        0.000000       0.000000      1.000000      0.000000      31.000000\n",
       "25%     2305.000000   59070.750000      5.000000      6.000000      63.000000\n",
       "50%     4610.000000  116932.500000      8.000000     16.000000      95.000000\n",
       "75%     7118.000000  174279.000000     10.000000     37.000000     130.000000\n",
       "max     9999.000000  232284.000000     10.000000    949.000000    1162.000000"
      ]
     },
     "execution_count": 5,
     "metadata": {},
     "output_type": "execute_result"
    }
   ],
   "source": [
    "df.describe()"
   ]
  },
  {
   "cell_type": "code",
   "execution_count": 6,
   "id": "07d0a8ea-9052-4c02-ae91-dc8c055e6207",
   "metadata": {},
   "outputs": [
    {
     "name": "stdout",
     "output_type": "stream",
     "text": [
      "<class 'pandas.core.frame.DataFrame'>\n",
      "RangeIndex: 46108 entries, 0 to 46107\n",
      "Data columns (total 9 columns):\n",
      " #   Column         Non-Null Count  Dtype  \n",
      "---  ------         --------------  -----  \n",
      " 0   Unnamed: 0     46108 non-null  int64  \n",
      " 1   patient_id     46108 non-null  int64  \n",
      " 2   drugName       46108 non-null  object \n",
      " 3   condition      46108 non-null  object \n",
      " 4   review         46108 non-null  object \n",
      " 5   rating         46108 non-null  float64\n",
      " 6   date           46108 non-null  object \n",
      " 7   usefulCount    46108 non-null  int64  \n",
      " 8   review_length  46108 non-null  int64  \n",
      "dtypes: float64(1), int64(4), object(4)\n",
      "memory usage: 3.2+ MB\n"
     ]
    }
   ],
   "source": [
    "df.info()"
   ]
  },
  {
   "cell_type": "code",
   "execution_count": 7,
   "id": "d0ead0f3-8564-4ee6-9a2a-746976991de7",
   "metadata": {},
   "outputs": [
    {
     "data": {
      "text/plain": [
       "Index(['Unnamed: 0', 'patient_id', 'drugName', 'condition', 'review', 'rating',\n",
       "       'date', 'usefulCount', 'review_length'],\n",
       "      dtype='object')"
      ]
     },
     "execution_count": 7,
     "metadata": {},
     "output_type": "execute_result"
    }
   ],
   "source": [
    "df.columns"
   ]
  },
  {
   "cell_type": "markdown",
   "id": "6eb8915d-5f31-4e49-b13f-78b9633a31fb",
   "metadata": {},
   "source": [
    "### Extracting columns review and ratings"
   ]
  },
  {
   "cell_type": "code",
   "execution_count": 8,
   "id": "39e8910f-666e-48fc-a3eb-6de539ba42fb",
   "metadata": {},
   "outputs": [],
   "source": [
    "X = df[\"review\"]\n",
    "y = df[\"rating\"]"
   ]
  },
  {
   "cell_type": "markdown",
   "id": "a967ba62-c46d-4d0f-8b21-d50849352ae9",
   "metadata": {},
   "source": [
    "### Splitting the dataset"
   ]
  },
  {
   "cell_type": "code",
   "execution_count": 9,
   "id": "ecfaeeb2-5136-45a4-a06c-4de6f1a1c34f",
   "metadata": {},
   "outputs": [],
   "source": [
    "from sklearn.model_selection import train_test_split \n",
    "X_train , X_test , y_train , y_test = train_test_split(X ,y ,test_size=0.2 ,random_state=42)"
   ]
  },
  {
   "cell_type": "markdown",
   "id": "c2e6eb0d-3fdb-4bd1-9924-7b25f2c9110e",
   "metadata": {},
   "source": [
    "### Preprocessing"
   ]
  },
  {
   "cell_type": "code",
   "execution_count": 10,
   "id": "81a7dad6-409a-42b0-bef6-684ff3710f9b",
   "metadata": {},
   "outputs": [],
   "source": [
    "from tensorflow.keras.preprocessing.text import Tokenizer \n",
    "from tensorflow.keras.preprocessing.sequence import pad_sequences\n",
    "\n",
    "X_train = X_train.astype(str)\n",
    "X_test = X_test.astype(str)\n"
   ]
  },
  {
   "cell_type": "code",
   "execution_count": 11,
   "id": "41dcc83b-8774-4d36-b3a8-af3b2a7c6631",
   "metadata": {},
   "outputs": [],
   "source": [
    "max_words = 10000\n",
    "tokenizer = Tokenizer(num_words = max_words)\n",
    "tokenizer.fit_on_texts(X_train)\n",
    "tokenizer.fit_on_texts(X_test)"
   ]
  },
  {
   "cell_type": "code",
   "execution_count": 12,
   "id": "26d4e548-26c1-4b0b-beba-91943df0f6a1",
   "metadata": {},
   "outputs": [],
   "source": [
    "X_train_seq = tokenizer.texts_to_sequences(X_train)\n",
    "X_test_seq = tokenizer.texts_to_sequences(X_test)"
   ]
  },
  {
   "cell_type": "code",
   "execution_count": 13,
   "id": "01bed3a2-45ac-4a32-9d0d-2b82a27139fe",
   "metadata": {},
   "outputs": [],
   "source": [
    "max_len =100\n",
    "X_train_pad = pad_sequences(X_train_seq , maxlen = max_len)\n",
    "X_test_pad = pad_sequences(X_test_seq , maxlen = max_len)"
   ]
  },
  {
   "cell_type": "markdown",
   "id": "30614b0b-fc27-48b6-87f1-61350f5a8073",
   "metadata": {},
   "source": [
    "### GRU Model"
   ]
  },
  {
   "cell_type": "code",
   "execution_count": 14,
   "id": "7e3e8bf3-3b5b-4995-b6da-a5c5867a329f",
   "metadata": {},
   "outputs": [],
   "source": [
    "model = Sequential([\n",
    "    layers.Embedding(input_dim=max_words , output_dim=64 , input_length = max_len),\n",
    "    layers.GRU(64 ,activation='relu'),\n",
    "    layers.Dense(128,activation='relu'),\n",
    "    layers.Dense(1 ,activation='softmax')\n",
    "])\n",
    "model.compile(optimizer='adam' , loss='binary_crossentropy' , metrics=['accuracy'])"
   ]
  },
  {
   "cell_type": "code",
   "execution_count": 15,
   "id": "7649a4ef-10d9-4199-99ef-502395a39213",
   "metadata": {},
   "outputs": [
    {
     "name": "stdout",
     "output_type": "stream",
     "text": [
      "Epoch 1/10\n",
      "1153/1153 [==============================] - 113s 94ms/step - loss: -43887126881763328.0000 - accuracy: 0.1294\n",
      "Epoch 2/10\n",
      "1153/1153 [==============================] - 108s 94ms/step - loss: -10.0653 - accuracy: 0.1294\n",
      "Epoch 3/10\n",
      "1153/1153 [==============================] - 108s 94ms/step - loss: -16.9564 - accuracy: 0.1294\n",
      "Epoch 4/10\n",
      "1153/1153 [==============================] - 108s 94ms/step - loss: -23.8057 - accuracy: 0.1294\n",
      "Epoch 5/10\n",
      "1153/1153 [==============================] - 108s 94ms/step - loss: -30.6570 - accuracy: 0.1294\n",
      "Epoch 6/10\n",
      "1153/1153 [==============================] - 108s 93ms/step - loss: -37.5234 - accuracy: 0.1294\n",
      "Epoch 7/10\n",
      "1153/1153 [==============================] - 108s 94ms/step - loss: -44.3925 - accuracy: 0.1294\n",
      "Epoch 8/10\n",
      "1153/1153 [==============================] - 108s 93ms/step - loss: -51.2634 - accuracy: 0.1294\n",
      "Epoch 9/10\n",
      "1153/1153 [==============================] - 108s 93ms/step - loss: -58.1390 - accuracy: 0.1294\n",
      "Epoch 10/10\n",
      "1153/1153 [==============================] - 108s 94ms/step - loss: -65.0165 - accuracy: 0.1294\n"
     ]
    },
    {
     "data": {
      "text/plain": [
       "<keras.callbacks.History at 0x2c84a1bb040>"
      ]
     },
     "execution_count": 15,
     "metadata": {},
     "output_type": "execute_result"
    }
   ],
   "source": [
    "model.fit(X_train_pad , y_train ,epochs=10)"
   ]
  },
  {
   "cell_type": "code",
   "execution_count": null,
   "id": "ceff387c-9201-425d-b27f-d18c401eb309",
   "metadata": {},
   "outputs": [],
   "source": []
  }
 ],
 "metadata": {
  "kernelspec": {
   "display_name": "Python 3 (ipykernel)",
   "language": "python",
   "name": "python3"
  },
  "language_info": {
   "codemirror_mode": {
    "name": "ipython",
    "version": 3
   },
   "file_extension": ".py",
   "mimetype": "text/x-python",
   "name": "python",
   "nbconvert_exporter": "python",
   "pygments_lexer": "ipython3",
   "version": "3.10.13"
  }
 },
 "nbformat": 4,
 "nbformat_minor": 5
}
